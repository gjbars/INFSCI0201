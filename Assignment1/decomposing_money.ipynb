{
 "cells": [
  {
   "cell_type": "code",
   "execution_count": 1,
   "metadata": {},
   "outputs": [],
   "source": [
    "# Infinitely loops until a valid input is found\n",
    "while True:\n",
    "    money_input = int(input(\"Enter an integer from 1-9999\"))\n",
    "    if(money_input > 0 and money_input < 10000):\n",
    "        break\n",
    "    else:\n",
    "        print(\"Input is not an integer between 1-9999 :(\")\n"
   ]
  },
  {
   "cell_type": "code",
   "execution_count": 2,
   "metadata": {},
   "outputs": [
    {
     "name": "stdout",
     "output_type": "stream",
     "text": [
      "6 grands\n",
      "7 Benjamins\n",
      "8 sawbucks\n",
      "9 bucks\n"
     ]
    }
   ],
   "source": [
    "# Decompose input\n",
    "if (money_input / 1000) != 0:\n",
    "    print(str(int(money_input / 1000)) + \" grands\")\n",
    "    money_input = (money_input%1000)\n",
    "if (money_input / 100) != 0:\n",
    "    print(str(int(money_input / 100)) + \" Benjamins\")\n",
    "    money_input = (money_input%100)\n",
    "if (money_input / 10) != 0:\n",
    "    print(str(int(money_input / 10)) + \" sawbucks\")\n",
    "    money_input = (money_input%10)\n",
    "if (money_input) != 0:\n",
    "    print(str(money_input) + \" bucks\")\n",
    " "
   ]
  }
 ],
 "metadata": {
  "kernelspec": {
   "display_name": "Python 3",
   "language": "python",
   "name": "python3"
  },
  "language_info": {
   "codemirror_mode": {
    "name": "ipython",
    "version": 3
   },
   "file_extension": ".py",
   "mimetype": "text/x-python",
   "name": "python",
   "nbconvert_exporter": "python",
   "pygments_lexer": "ipython3",
   "version": "3.11.0"
  },
  "orig_nbformat": 4
 },
 "nbformat": 4,
 "nbformat_minor": 2
}
