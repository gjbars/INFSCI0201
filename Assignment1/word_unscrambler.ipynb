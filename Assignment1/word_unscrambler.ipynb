{
 "cells": [
  {
   "cell_type": "code",
   "execution_count": 90,
   "metadata": {},
   "outputs": [],
   "source": [
    "# Get user input and store length for later\n",
    "\n",
    "while(True):\n",
    "    user_input = input(\"Enter a word\")\n",
    "    word_length = len(user_input)\n",
    "    if(word_length > 6):\n",
    "        user_input = user_input[0:6]\n",
    "        break\n",
    "    elif(word_length < 3):\n",
    "        print(\"Try again... word too short\")\n",
    "    else:\n",
    "        break"
   ]
  },
  {
   "cell_type": "code",
   "execution_count": 91,
   "metadata": {},
   "outputs": [],
   "source": [
    "# Turn the input into a lowercase, alphabetized version\n",
    "\n",
    "user_input = sorted(user_input.lower())"
   ]
  },
  {
   "cell_type": "code",
   "execution_count": 92,
   "metadata": {},
   "outputs": [],
   "source": [
    "# Open the dictionary file and put the words in a list\n",
    "\n",
    "dictionary = open(\"words.txt\")\n",
    "word_list = dictionary.readlines()\n",
    "\n",
    "# Fix the word_list to get rid of the \"\\n\"'s\n",
    "for word in word_list:\n",
    "    word = word.replace('\\n','')"
   ]
  },
  {
   "cell_type": "code",
   "execution_count": 93,
   "metadata": {},
   "outputs": [
    {
     "name": "stdout",
     "output_type": "stream",
     "text": [
      "['fchbvh', 'hvhfbc', 'vhchbf', 'hfvbhc', 'hchfbv', 'bhcfhv', 'bhcfvh', 'fbhcvh', 'fhvbch', 'cvbfhh', 'hfhbvc', 'fhbvch', 'cbhvhf', 'fhvcbh', 'cbhhvf', 'hhcfbv', 'vhcfbh', 'bhfvhc', 'hbhvcf', 'bhchfv', 'vbhfhc', 'hvchbf', 'hfcbhv', 'chvbfh', 'fvcbhh', 'hchfvb', 'hvfcbh', 'cbhvfh', 'fhbhvc', 'bfvchh', 'chfbhv', 'chbfvh', 'fbhhvc', 'vhcbfh', 'hvbhcf', 'fbhvhc', 'hcfvbh', 'cbvhfh', 'vhbhfc', 'bcfhvh', 'vhbchf', 'fbvhch', 'hvbfhc', 'vchbfh', 'cfvhhb', 'fchvhb', 'cfhhvb', 'hhbvfc', 'hfchvb', 'cfvhbh', 'cvhfbh', 'hfcvbh', 'hhbfcv', 'chvbhf', 'bcvhhf', 'fbhchv', 'bchvhf', 'bfhvhc', 'hcvbfh', 'fvhhcb', 'cbhfhv', 'hvfchb', 'bhvhcf', 'hvhbcf', 'bhchvf', 'cbfvhh', 'chhbfv', 'fvhbch', 'hhcvfb', 'bfhvch', 'fchbhv', 'fvchbh', 'vfchhb', 'vcfhbh', 'bhhcfv', 'cfbhvh', 'hvhcbf', 'hfhcvb', 'vchfhb', 'vhhcbf', 'hhcbfv', 'fhcvhb', 'bhfcvh', 'hvfbch', 'vhbfhc', 'fvhhbc', 'vhfhcb', 'hvhcfb', 'vcfhhb', 'hhvcfb', 'vfhbch', 'hhbcvf', 'fhbchv', 'hfvcbh', 'vbhhcf', 'hbvhcf', 'hbchvf', 'fcbhhv', 'vbfhhc', 'vfbchh', 'cfhvhb', 'fvhcbh', 'hfbvch', 'hfcbvh', 'vhfchb', 'cvfhbh', 'bcfvhh', 'vhcbhf', 'hcbvfh', 'hfchbv', 'hcbhvf', 'chhfbv', 'bvchhf', 'vfbhhc', 'vchbhf', 'fcvhbh', 'bcvfhh', 'vfhchb', 'hhbfvc', 'vchhfb', 'hhvbcf', 'fhvbhc', 'hfbhvc', 'hbcfhv', 'hchvbf', 'hvfhbc', 'bfvhch', 'cbvfhh', 'fhbcvh', 'chfhbv', 'hbcvfh', 'cbfhvh', 'cvhhbf', 'hfhvcb', 'vbchfh', 'vfhbhc', 'fhchbv', 'hhfcvb', 'hbfcvh', 'hbvcfh', 'fhvchb', 'hfhbcv', 'hfhcbv', 'cfhhbv', 'hbvchf', 'bhvfch', 'bcfhhv', 'fcbvhh', 'vfhhbc', 'hhvfcb', 'hfbcvh', 'fhcvbh', 'chvhfb', 'fhcbvh', 'hbchfv', 'vhbcfh', 'hhbvcf', 'hbfvch', 'hhvcbf', 'hbhfvc', 'hhbcfv', 'bvhcfh', 'bhhcvf', 'hcvbhf', 'hbvhfc', 'hcbhfv', 'cfvbhh', 'bhhvcf', 'hchbvf', 'hvcfhb', 'hbhvfc', 'hhvfbc', 'hfcvhb', 'vcbhfh', 'cvbhhf', 'chhvbf', 'vbhcfh', 'cfbhhv', 'bhhvfc', 'vfbhch', 'chvhbf', 'hvfbhc', 'vcbfhh', 'cfhbhv', 'cvfhhb', 'hvbfch', 'fbvhhc', 'fhbvhc', 'vhbhcf', 'hhfbcv', 'bfchvh', 'fhhvcb', 'hcfhvb', 'cbhfvh', 'fvhbhc', 'vfchbh', 'vcfbhh', 'bhcvfh', 'bhfchv', 'chbvhf', 'vbfchh', 'bhcvhf', 'cbhhfv', 'cvfbhh', 'hcfhbv', 'chfvbh', 'hcfbvh', 'fvhchb', 'vhfbch', 'fhhcvb', 'bfhchv', 'bvfhhc', 'fhhbcv', 'chbvfh', 'hbfhcv', 'fhcbhv', 'vchhbf', 'hvhbfc', 'bhvcfh', 'hfvbch', 'bhhfcv', 'hbcvhf', 'vbhfch', 'cbvhhf', 'hbvfch', 'chvfhb', 'fvchhb', 'bhhfvc', 'vhhcfb', 'vbhchf', 'bvhchf', 'hbvfhc', 'chfbvh', 'fvbhhc', 'hfvchb', 'fhbhcv', 'hhcbvf', 'fhvhcb', 'chbhfv', 'fbcvhh', 'cfhvbh', 'vhchfb', 'bvhfhc', 'bhfvch', 'vbcfhh', 'hcbvhf', 'fbchhv', 'bvfhch', 'bchvfh', 'hhfbvc', 'chbhvf', 'vbchhf', 'vbhhfc', 'hcvfbh', 'bfhhcv', 'hcbfhv', 'hvfhcb', 'bvfchh', 'vfhcbh', 'fcvbhh', 'hcfvhb', 'bchfhv', 'vhfhbc', 'bhfhcv', 'bfchhv', 'hfbchv', 'chvfbh', 'hbfchv', 'hhfvcb', 'bfhcvh', 'hhfcbv', 'cvbhfh', 'chhbvf', 'hvhfcb', 'bchhfv', 'hcbfvh', 'hvbhfc', 'fchhbv', 'vfhhcb', 'hvcbhf', 'hchbfv', 'vhhbfc', 'hcfbhv', 'hcvfhb', 'fvbchh', 'hbhcfv', 'hbhcvf', 'hhcvbf', 'fvbhch', 'fchvbh', 'hchvfb', 'hvchfb', 'bhvfhc', 'cvhbfh', 'fbchvh', 'bhvhfc', 'hfhvbc', 'cvhhfb', 'hcvhbf', 'hvbchf', 'hfvhbc', 'cfhbvh', 'chhvfb', 'bhvchf', 'fhhbvc', 'bhfhvc', 'vbfhch', 'hhvbfc', 'fhhcbv', 'bchhvf', 'fhvhbc', 'vhcfhb', 'bvhfch', 'hbcfvh', 'bfhhvc', 'bvchfh', 'chhfvb', 'hvcfbh', 'vcbhhf', 'vhfbhc', 'fchhvb', 'bfcvhh', 'vhhfbc', 'hbhfcv', 'vhfcbh', 'fhhvbc', 'hfbhcv', 'fbhhcv', 'fhchvb', 'hfbvhc', 'cbfhhv', 'vchfbh', 'fbvchh', 'bvhhcf', 'hbfvhc', 'chbfhv', 'chfhvb', 'cvhbhf', 'fcbhvh', 'hhcfvb', 'bcvhfh', 'vfcbhh', 'cfbvhh', 'vhhbcf', 'vhhfcb', 'bfvhhc', 'hhfvbc', 'fcvhhb', 'hcvhfb', 'hbfhvc', 'hvcbfh', 'bvhhfc', 'hvbcfh', 'vhbfch', 'hfvhcb', 'chfvhb', 'cvhfhb', 'fbhvch', 'bvcfhh', 'bchfvh']\n"
     ]
    }
   ],
   "source": [
    "# Find all permutations of the word\n",
    "\n",
    "input_copy = user_input\n",
    "permuations = [''.join(input_copy)]\n",
    "\n",
    "while True:\n",
    "\n",
    "    i = word_length - 2\n",
    "    while i >= 0 and input_copy[i] >= input_copy[i+1]:\n",
    "        i-=1\n",
    "\n",
    "    if i == -1:\n",
    "        break\n",
    "\n",
    "    j = word_length - 1\n",
    "\n",
    "    while input_copy[j] <= input_copy[i]:\n",
    "        j-=1\n",
    "\n",
    "    input_copy[i], input_copy[j] = input_copy[j], input_copy[i]\n",
    "\n",
    "    input_copy[i + 1:] = reversed(input_copy[i + 1:])\n",
    "\n",
    "    permuations.append(''.join(input_copy))\n",
    "\n",
    "set_holder = set(permuations)\n",
    "permuations = list(set_holder)\n",
    "print(permuations)\n"
   ]
  },
  {
   "cell_type": "code",
   "execution_count": 94,
   "metadata": {},
   "outputs": [
    {
     "name": "stdout",
     "output_type": "stream",
     "text": [
      "[]\n"
     ]
    }
   ],
   "source": [
    "success_list = []\n",
    "for perm in permuations:\n",
    "    for length in range (3,word_length+1):\n",
    "        #print(perm[0:length])\n",
    "        if(perm[0:length] in word_list):    \n",
    "            success_list[''.join(perm)]\n",
    "        \n",
    "\n",
    "success_holder = set(success_list)\n",
    "success_list = list(success_holder)\n",
    "print(success_list)"
   ]
  }
 ],
 "metadata": {
  "kernelspec": {
   "display_name": "Python 3",
   "language": "python",
   "name": "python3"
  },
  "language_info": {
   "codemirror_mode": {
    "name": "ipython",
    "version": 3
   },
   "file_extension": ".py",
   "mimetype": "text/x-python",
   "name": "python",
   "nbconvert_exporter": "python",
   "pygments_lexer": "ipython3",
   "version": "3.11.0"
  },
  "orig_nbformat": 4
 },
 "nbformat": 4,
 "nbformat_minor": 2
}
