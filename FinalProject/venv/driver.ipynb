{
 "cells": [
  {
   "cell_type": "code",
   "execution_count": 95,
   "metadata": {},
   "outputs": [],
   "source": [
    "from flask import Flask\n",
    "from flask import render_template\n",
    "from flask import request\n",
    "\n",
    "import json\n",
    "\n",
    "# Import from models folder\n",
    "from model.smart_devices import Home\n",
    "from model.smart_devices import SmartDevice\n",
    "\n",
    "from model.smart_devices import LightBulb\n",
    "from model.smart_devices import ColorBulb\n",
    "\n",
    "from model.smart_devices import Thermostat\n",
    "from model.smart_devices import Vacuum\n",
    "\n",
    "from model.smart_devices import SmartSpeaker\n",
    "from model.smart_devices import Alexa\n",
    "from model.smart_devices import GoogleHome"
   ]
  },
  {
   "cell_type": "markdown",
   "metadata": {},
   "source": [
    "# Add a home to hold your smart devices in"
   ]
  },
  {
   "cell_type": "code",
   "execution_count": 96,
   "metadata": {},
   "outputs": [],
   "source": [
    "HomeTest = Home(\"9912 Home Lane\", \"Pittsburgh\", \"Pennsylvania\", 15213)"
   ]
  },
  {
   "cell_type": "markdown",
   "metadata": {},
   "source": [
    "# Want to add a device?\n",
    "\n",
    "# Lets use a lightbulb as an example"
   ]
  },
  {
   "cell_type": "code",
   "execution_count": 97,
   "metadata": {},
   "outputs": [],
   "source": [
    "LightBulbTest = LightBulb(\"Smart Light\", \"Phillips Hue\", 50)\n",
    "\n",
    "# Add the lightbulb to the home\n",
    "\n",
    "HomeTest.add_device(LightBulbTest)"
   ]
  },
  {
   "cell_type": "markdown",
   "metadata": {},
   "source": [
    "# Hmm the lightbulb is a little too dim, lets change the brightness"
   ]
  },
  {
   "cell_type": "code",
   "execution_count": 98,
   "metadata": {},
   "outputs": [
    {
     "name": "stdout",
     "output_type": "stream",
     "text": [
      "Brightness is set to 100\n"
     ]
    },
    {
     "data": {
      "text/plain": [
       "'Smart Light made by Phillips Hue is at 100.0% brightness [|||||]'"
      ]
     },
     "execution_count": 98,
     "metadata": {},
     "output_type": "execute_result"
    }
   ],
   "source": [
    "LightBulbTest.adjust_brightness(100)\n",
    "\n",
    "# Print the newly brightned lightbulb out\n",
    "\n",
    "LightBulbTest.to_string()"
   ]
  },
  {
   "cell_type": "markdown",
   "metadata": {},
   "source": [
    "# Need a json of the lightbulb? Use the to_json method!"
   ]
  },
  {
   "cell_type": "code",
   "execution_count": 99,
   "metadata": {},
   "outputs": [
    {
     "data": {
      "text/plain": [
       "'{\"Name\": \"Smart Light\", \"Manufacturer\": \"Phillips Hue\", \"Brightness\": 100.0}'"
      ]
     },
     "execution_count": 99,
     "metadata": {},
     "output_type": "execute_result"
    }
   ],
   "source": [
    "LightBulbTest.to_json()"
   ]
  },
  {
   "cell_type": "markdown",
   "metadata": {},
   "source": [
    "# Need the brightness of the bulb?"
   ]
  },
  {
   "cell_type": "code",
   "execution_count": 100,
   "metadata": {},
   "outputs": [
    {
     "name": "stdout",
     "output_type": "stream",
     "text": [
      "90.0\n"
     ]
    }
   ],
   "source": [
    "print(str(LightBulbTest.get_brightness() - 10))"
   ]
  },
  {
   "cell_type": "markdown",
   "metadata": {},
   "source": [
    "# The following methods are supported for every smart device:\n",
    "\n",
    "- Getters \n",
    "    - Ex. get_brightness()\n",
    "- Setters \n",
    "    - Ex. adjust_brightness()\n",
    "- to_string()\n",
    "    - Prints out a string that has info related to the device\n",
    "- to_json()\n",
    "    - Returns a json string with info related to the device"
   ]
  },
  {
   "cell_type": "markdown",
   "metadata": {},
   "source": [
    "# A lightbulb isn't the only thing you can add to the home!\n",
    "\n",
    "## The following devices are supported:\n",
    "- Light Bulb\n",
    "- Color Bulb\n",
    "- Thermostat\n",
    "- Vacuum\n",
    "- Generic Smart Speaker\n",
    "- Amazon Alexa\n",
    "- Google Home"
   ]
  },
  {
   "cell_type": "code",
   "execution_count": 101,
   "metadata": {},
   "outputs": [
    {
     "name": "stdout",
     "output_type": "stream",
     "text": [
      "ColorBulb's Color: Red\n",
      "Thermostat's Temperature: 70\n",
      "Vacuum's Battery: 100\n",
      "Is the vacuum charging?: False\n",
      "Smart Speaker's Volume: 77\n",
      "Alexa's Song: Blinding Lights\n",
      "Alexa's Volume: 89\n",
      "Google Home's Song: Big Difference\n",
      "Google Home's Volume: 100\n"
     ]
    }
   ],
   "source": [
    "# Some unique properties of each device:\n",
    "\n",
    "# Color Bulb - Supports a color property\n",
    "\n",
    "ColorBulbTest = ColorBulb(\"Color Light\", \"Phillips Hue\", 50, \"Red\")\n",
    "print(\"ColorBulb's Color: \" + ColorBulbTest.get_color())\n",
    "\n",
    "\n",
    "# Thermostat - Supports a temperature property\n",
    "\n",
    "ThermostatTest = Thermostat(\"Thermostat\", \"Nest\", 70)\n",
    "print(\"Thermostat's Temperature: \" + str(ThermostatTest.get_temperature()))\n",
    "\n",
    "\n",
    "# Vacuum - Supports a battery and charging property\n",
    "\n",
    "VacuumTest = Vacuum(\"Vacuum\", \"Roomba\", 100, False)\n",
    "print(\"Vacuum's Battery: \" + str(VacuumTest.get_battery()))\n",
    "print(\"Is the vacuum charging?: \" + str(VacuumTest.get_charging()))\n",
    "\n",
    "\n",
    "# Smart Speaker - Supports a volume property\n",
    "\n",
    "SmartSpeakerTest = SmartSpeaker(\"Smart Speaker\", \"Generic Brand\", 77)\n",
    "print(\"Smart Speaker's Volume: \" + str(SmartSpeakerTest.get_volume()))\n",
    "\n",
    "\n",
    "# Alexa - Supports a song and volume property\n",
    "\n",
    "AlexaTest = Alexa(\"Alexa\", \"Amazon\", 89, \"Blinding Lights\")\n",
    "print(\"Alexa's Song: \" + AlexaTest.get_song())\n",
    "print(\"Alexa's Volume: \" + str(AlexaTest.get_volume()))\n",
    "\n",
    "# Google Home - Supports a song and volime property\n",
    "\n",
    "GoogleHomeTest = GoogleHome(\"Google Home\", \"Google\", 100, \"Big Difference\")\n",
    "print(\"Google Home's Song: \" + GoogleHomeTest.get_song())\n",
    "print(\"Google Home's Volume: \" + str(GoogleHomeTest.get_volume()))\n",
    "\n"
   ]
  },
  {
   "cell_type": "markdown",
   "metadata": {},
   "source": [
    "# The Home:\n",
    "\n",
    "## The home has some unique variables and methods:\n",
    "### Variables:\n",
    "- street \n",
    "- city \n",
    "- state \n",
    "- zipcode\n",
    "- smartDevices (A list that keeps track of all devices in the home)\n",
    "\n",
    "### Methods:\n",
    "- add_device() (Adds a device to the home)\n",
    "- print_devices() (Calls to_string() on every object in the home)\n",
    "- temperature_difference(thermostat) (Takes in a thermostat and tells you the difference between the temperature inside and outside)"
   ]
  },
  {
   "cell_type": "code",
   "execution_count": 102,
   "metadata": {},
   "outputs": [
    {
     "name": "stdout",
     "output_type": "stream",
     "text": [
      "9912 Home Lane, Pittsburgh, Pennsylvania, 15213\n",
      "=============Devices in 9912 Home Lane, Pittsburgh, Pennsylvania, 15213=============\n",
      "\n",
      "Smart Light made by Phillips Hue is at 100.0% brightness [|||||]\n",
      "Color Light made by Phillips Hue is at 50% brightness [||   ] and is Red\n",
      "Thermostat made by Nest is at 70 degrees [|||  ]\n",
      "Vacuum made by Roomba is at 100% battery [|||||]\n"
     ]
    }
   ],
   "source": [
    "# Some example code\n",
    "\n",
    "print(str(HomeTest.get_address()))\n",
    "\n",
    "HomeTest.add_device(ColorBulbTest)\n",
    "HomeTest.add_device(ThermostatTest)\n",
    "HomeTest.add_device(VacuumTest)\n",
    "\n",
    "HomeTest.print_devices()"
   ]
  },
  {
   "cell_type": "code",
   "execution_count": 103,
   "metadata": {},
   "outputs": [
    {
     "name": "stdout",
     "output_type": "stream",
     "text": [
      "=============Devices in 9912 Home Lane, Pittsburgh, Pennsylvania, 15213=============\n",
      "\n",
      "Smart Light made by Phillips Hue is at 50% brightness [||   ]\n",
      "Color Light made by Phillips Hue is at 50% brightness [||   ] and is Red\n",
      "Thermostat made by Nest is at 70 degrees [|||  ]\n",
      "Vacuum made by Roomba is at 100% battery [|||||]\n",
      "Smart Speaker made by Generic Brand is at 77% volume [|||  ]\n",
      "Alexa made by Amazon is at 89% volume [|||| ] and is playing Big Difference\n",
      "Google Home made by Google is at 100% volume [|||||] and is playing Beep Beep\n",
      "\n",
      "The temperature difference between the inside and outside is: 34 degrees\n"
     ]
    }
   ],
   "source": [
    "# Example of adding many devices to the home\n",
    "\n",
    "Home1 = Home(\"9912 Home Lane\", \"Pittsburgh\", \"Pennsylvania\", 15213)\n",
    "\n",
    "Light1 = LightBulb(\"Smart Light\", \"Phillips Hue\", 50)\n",
    "ColorLight1 = ColorBulb(\"Color Light\", \"Phillips Hue\", 50, \"Red\")\n",
    "Thermostat1 = Thermostat(\"Thermostat\", \"Nest\", 70)\n",
    "Vacuum1 = Vacuum(\"Vacuum\", \"Roomba\", 100, False)\n",
    "SmartSpeaker1 = SmartSpeaker(\"Smart Speaker\", \"Generic Brand\", 77)\n",
    "Alexa1 = Alexa(\"Alexa\", \"Amazon\", 89, \"Big Difference\")\n",
    "GoogleHome1 = GoogleHome(\"Google Home\", \"Google\", 100, \"Beep Beep\")\n",
    "\n",
    "Home1.add_device(Light1)\n",
    "Home1.add_device(ColorLight1)\n",
    "Home1.add_device(Thermostat1)\n",
    "Home1.add_device(Vacuum1)\n",
    "Home1.add_device(SmartSpeaker1)\n",
    "Home1.add_device(Alexa1)\n",
    "Home1.add_device(GoogleHome1)\n",
    "\n",
    "Home1.print_devices()\n",
    "print()\n",
    "Home1.temperature_difference(Thermostat1)"
   ]
  },
  {
   "cell_type": "markdown",
   "metadata": {},
   "source": [
    "# Example HTML Requests with Curl Commands\n",
    "\n",
    "### POST\n",
    "#### curl -X POST -H \"Content-Type: application/json\" -d '{\"type\": \"LightBulb\",\"name\": \"Example Bulb\", \"manufacturer\": \"Example Manufacturer\", \"brightness\": 50}' http://localhost:8000/add-device\n",
    "\n",
    "### DELETE\n",
    "#### curl -X DELETE -H \"Content-Type: application/json\" -d '{\"type\": \"Alexa\"}' http://localhost:8000/remove-device\n",
    "\n",
    "### PUT\n",
    "#### curl -X PUT -H \"Content-Type: application/json\" -d '{\"volume\": 75}' http://localhost:8000/change-volume\n"
   ]
  }
 ],
 "metadata": {
  "kernelspec": {
   "display_name": "venv",
   "language": "python",
   "name": "python3"
  },
  "language_info": {
   "codemirror_mode": {
    "name": "ipython",
    "version": 3
   },
   "file_extension": ".py",
   "mimetype": "text/x-python",
   "name": "python",
   "nbconvert_exporter": "python",
   "pygments_lexer": "ipython3",
   "version": "3.11.0"
  }
 },
 "nbformat": 4,
 "nbformat_minor": 2
}
