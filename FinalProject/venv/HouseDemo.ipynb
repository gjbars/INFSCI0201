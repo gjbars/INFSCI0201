{
 "cells": [
  {
   "cell_type": "code",
   "execution_count": 16,
   "metadata": {},
   "outputs": [],
   "source": [
    "import json\n",
    "\n",
    "# Import from models folder\n",
    "from model.smart_devices import Home\n",
    "from model.smart_devices import SmartDevice\n",
    "\n",
    "from model.smart_devices import LightBulb\n",
    "from model.smart_devices import ColorBulb\n",
    "\n",
    "from model.smart_devices import Thermostat\n",
    "from model.smart_devices import Vacuum\n",
    "\n",
    "from model.smart_devices import SmartSpeaker\n",
    "from model.smart_devices import Alexa\n",
    "from model.smart_devices import GoogleHome"
   ]
  },
  {
   "cell_type": "code",
   "execution_count": 17,
   "metadata": {},
   "outputs": [
    {
     "name": "stdout",
     "output_type": "stream",
     "text": [
      "=============Devices in 9912 Home Lane, Pittsburgh, Pennsylvania, 15213=============\n",
      "\n",
      "Smart Light made by Phillips Hue is at 50% brightness [||   ]\n",
      "Color Light made by Phillips Hue is at 50% brightness [||   ]\n",
      "Thermostat made by Nest is at 70 degrees [|||  ]\n",
      "Vacuum made by Roomba is at 100% battery [|||||]\n",
      "Smart Speaker made by Generic Brand is at 77% volume [|||  ]\n",
      "Alexa made by Amazon is at 89% volume [|||| ] and is playing Never Gonna Give You Up\n",
      "Google Home made by Google is at 100% volume [|||||] and is playing Never Gonna Give You Up\n"
     ]
    },
    {
     "ename": "NameError",
     "evalue": "name 'requests' is not defined",
     "output_type": "error",
     "traceback": [
      "\u001b[0;31m---------------------------------------------------------------------------\u001b[0m",
      "\u001b[0;31mNameError\u001b[0m                                 Traceback (most recent call last)",
      "Cell \u001b[0;32mIn [17], line 22\u001b[0m\n\u001b[1;32m     18\u001b[0m Home1\u001b[38;5;241m.\u001b[39madd_device(GoogleHome1)\n\u001b[1;32m     20\u001b[0m Home1\u001b[38;5;241m.\u001b[39mprint_devices()\n\u001b[0;32m---> 22\u001b[0m \u001b[43mHome1\u001b[49m\u001b[38;5;241;43m.\u001b[39;49m\u001b[43mtemperature_difference\u001b[49m\u001b[43m(\u001b[49m\u001b[43mThermostat1\u001b[49m\u001b[43m)\u001b[49m\n",
      "File \u001b[0;32m~/Documents/School/INFSCI0201/FinalProject/venv/model/smart_devices.py:268\u001b[0m, in \u001b[0;36mHome.temperature_difference\u001b[0;34m(self, thermostat)\u001b[0m\n\u001b[1;32m    267\u001b[0m \u001b[38;5;28;01mdef\u001b[39;00m \u001b[38;5;21mtemperature_difference\u001b[39m(\u001b[38;5;28mself\u001b[39m, thermostat):\n\u001b[0;32m--> 268\u001b[0m     \u001b[38;5;28mprint\u001b[39m(\u001b[38;5;124m\"\u001b[39m\u001b[38;5;124mThe temperature difference between the inside and outside is: \u001b[39m\u001b[38;5;124m\"\u001b[39m \u001b[38;5;241m+\u001b[39m \u001b[38;5;28mstr\u001b[39m(thermostat\u001b[38;5;241m.\u001b[39m_temperature \u001b[38;5;241m-\u001b[39m \u001b[38;5;28mint\u001b[39m(\u001b[43mgetAPITemp\u001b[49m\u001b[43m(\u001b[49m\u001b[38;5;28;43mself\u001b[39;49m\u001b[38;5;241;43m.\u001b[39;49m\u001b[43m_zipcode\u001b[49m\u001b[43m)\u001b[49m)) \u001b[38;5;241m+\u001b[39m \u001b[38;5;124m\"\u001b[39m\u001b[38;5;124m degrees\u001b[39m\u001b[38;5;124m\"\u001b[39m)\n",
      "File \u001b[0;32m~/Documents/School/INFSCI0201/FinalProject/venv/model/smart_devices.py:9\u001b[0m, in \u001b[0;36mgetAPITemp\u001b[0;34m(zipcode)\u001b[0m\n\u001b[1;32m      7\u001b[0m query \u001b[38;5;241m=\u001b[39m \u001b[38;5;28mstr\u001b[39m(zipcode)\n\u001b[1;32m      8\u001b[0m units \u001b[38;5;241m=\u001b[39m \u001b[38;5;124m\"\u001b[39m\u001b[38;5;124mf\u001b[39m\u001b[38;5;124m\"\u001b[39m\n\u001b[0;32m----> 9\u001b[0m response \u001b[38;5;241m=\u001b[39m \u001b[43mrequests\u001b[49m\u001b[38;5;241m.\u001b[39mget(url \u001b[38;5;241m+\u001b[39m \u001b[38;5;124m\"\u001b[39m\u001b[38;5;124m?access_key=\u001b[39m\u001b[38;5;124m\"\u001b[39m \u001b[38;5;241m+\u001b[39m access_key \u001b[38;5;241m+\u001b[39m \u001b[38;5;124m\"\u001b[39m\u001b[38;5;124m&query=\u001b[39m\u001b[38;5;124m\"\u001b[39m \u001b[38;5;241m+\u001b[39m query \u001b[38;5;241m+\u001b[39m \u001b[38;5;124m\"\u001b[39m\u001b[38;5;124m&units=\u001b[39m\u001b[38;5;124m\"\u001b[39m \u001b[38;5;241m+\u001b[39m units)\u001b[38;5;241m.\u001b[39mjson()\n\u001b[1;32m     10\u001b[0m \u001b[38;5;28;01mreturn\u001b[39;00m response[\u001b[38;5;124m'\u001b[39m\u001b[38;5;124mcurrent\u001b[39m\u001b[38;5;124m'\u001b[39m][\u001b[38;5;124m'\u001b[39m\u001b[38;5;124mtemperature\u001b[39m\u001b[38;5;124m'\u001b[39m]\n",
      "\u001b[0;31mNameError\u001b[0m: name 'requests' is not defined"
     ]
    }
   ],
   "source": [
    "# Run a quickTest\n",
    "\n",
    "Home1 = Home(\"9912 Home Lane\", \"Pittsburgh\", \"Pennsylvania\", 15213)\n",
    "Light1 = LightBulb(\"Smart Light\", \"Phillips Hue\", 50)\n",
    "ColorLight1 = ColorBulb(\"Color Light\", \"Phillips Hue\", 50, \"Red\")\n",
    "Thermostat1 = Thermostat(\"Thermostat\", \"Nest\", 70)\n",
    "Vacuum1 = Vacuum(\"Vacuum\", \"Roomba\", 100, False)\n",
    "SmartSpeaker1 = SmartSpeaker(\"Smart Speaker\", \"Generic Brand\", 77)\n",
    "Alexa1 = Alexa(\"Alexa\", \"Amazon\", 89, \"Never Gonna Give You Up\")\n",
    "GoogleHome1 = GoogleHome(\"Google Home\", \"Google\", 100, \"Never Gonna Give You Up\")\n",
    "\n",
    "Home1.add_device(Light1)\n",
    "Home1.add_device(ColorLight1)\n",
    "Home1.add_device(Thermostat1)\n",
    "Home1.add_device(Vacuum1)\n",
    "Home1.add_device(SmartSpeaker1)\n",
    "Home1.add_device(Alexa1)\n",
    "Home1.add_device(GoogleHome1)\n",
    "\n",
    "Home1.print_devices()\n",
    "\n",
    "Home1.temperature_difference(Thermostat1)"
   ]
  }
 ],
 "metadata": {
  "kernelspec": {
   "display_name": "venv",
   "language": "python",
   "name": "python3"
  },
  "language_info": {
   "codemirror_mode": {
    "name": "ipython",
    "version": 3
   },
   "file_extension": ".py",
   "mimetype": "text/x-python",
   "name": "python",
   "nbconvert_exporter": "python",
   "pygments_lexer": "ipython3",
   "version": "3.11.0"
  }
 },
 "nbformat": 4,
 "nbformat_minor": 2
}
